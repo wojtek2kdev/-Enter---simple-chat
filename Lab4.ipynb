{
  "nbformat": 4,
  "nbformat_minor": 0,
  "metadata": {
    "colab": {
      "name": "ON-lab4-live.ipynb",
      "provenance": []
    },
    "kernelspec": {
      "name": "python3",
      "display_name": "Python 3"
    },
    "language_info": {
      "name": "python"
    }
  },
  "cells": [
    {
      "cell_type": "markdown",
      "source": [
        "# Laboratorium "
      ],
      "metadata": {
        "id": "8guPCTNIWWWj"
      }
    },
    {
      "cell_type": "markdown",
      "source": [
        ""
      ],
      "metadata": {
        "id": "34nmKPnkbhHv"
      }
    },
    {
      "cell_type": "code",
      "source": [
        "import numpy as np"
      ],
      "metadata": {
        "id": "9o-PMVBsbhlk"
      },
      "execution_count": null,
      "outputs": []
    },
    {
      "cell_type": "code",
      "source": [
        ""
      ],
      "metadata": {
        "id": "6xKKycCVbiFt"
      },
      "execution_count": null,
      "outputs": []
    },
    {
      "cell_type": "markdown",
      "source": [
        "#### Zadanie 1\n",
        "Napisz metodę, która oblicza pole między osią OX a wykresem funkcji na danym przedziale za pomocą sum Riemanna (przybliżeń prostokątami). Sprawdź jej działanie na wybranej przez siebie funkcji porównując z wynikiem całkownia symbolicznego. \n",
        "\n",
        "Korzystając z symbolicznych pochodnych i szukania ekstremów dobierz takie parametry do swojej funkcji, aby błąd całkowania był mniejszy niż $10^{-5}$.\n"
      ],
      "metadata": {
        "id": "GjTceg1Pa0Yq"
      }
    },
    {
      "cell_type": "code",
      "source": [
        "np.linspace(0,1,10)"
      ],
      "metadata": {
        "colab": {
          "base_uri": "https://localhost:8080/"
        },
        "id": "safg-qIna1W_",
        "outputId": "e69f5050-35ac-4943-9c50-aedd3a78d2cf"
      },
      "execution_count": null,
      "outputs": [
        {
          "output_type": "execute_result",
          "data": {
            "text/plain": [
              "array([0.        , 0.11111111, 0.22222222, 0.33333333, 0.44444444,\n",
              "       0.55555556, 0.66666667, 0.77777778, 0.88888889, 1.        ])"
            ]
          },
          "metadata": {},
          "execution_count": 2
        }
      ]
    },
    {
      "cell_type": "code",
      "source": [
        "import numpy as np\n",
        "\n",
        "from sympy import symbols, diff, solve, integrate\n",
        "from functools import partial\n",
        "from math import ceil\n",
        "\n",
        "def integration(f,a,b,N):\n",
        "  P = np.linspace(a,b,N)[:-1]\n",
        "  dx = (b-a)/(N-1)\n",
        "  return sum(dx*f(x_k) for x_k in P)\n",
        "\n",
        "def area(f,a,b,bias):\n",
        "  N = estimate_n(f,a,b,bias)\n",
        "  return integration(lambda x: abs(f(x)),a,b,N)\n",
        "\n",
        "def abs_sup(f,a,b):\n",
        "  potential_points = solve(diff(f))\n",
        "  return max(map(abs, map(partial(f.subs, x), potential_points+[a,b])))\n",
        "\n",
        "def estimate_n(f,a,b,bias):\n",
        "  x, N = symbols(\"x N\")\n",
        "  M = abs_sup(diff(f(x)),a,b)\n",
        "  _N = float(solve(((b-a)**2)*M/(2*N) - bias, N)[0])\n",
        "  return ceil(_N)+1\n",
        "\n",
        "f = lambda x0: (x0-1)*(x0/2-3)\n",
        "a, b, bias = 1, 4, 10**(-5)\n",
        "x = symbols(\"x\")\n",
        "\n",
        "I1 = area(f,a,b,bias)\n",
        "I2 = integrate(abs(f(x)), (x,a,b))\n",
        "\n",
        "e = abs(I2-I1)\n",
        "\n",
        "print(f\"\"\"\n",
        "Pole między osią OX a funkcją f:\n",
        " - numerycznie: {I1}\n",
        " - symbolicznie: {I2.evalf()}\n",
        "\"\"\")\n",
        "print(f\"Błąd całkowania: {e}\")\n",
        "print(f\"Błąd jest {'' if e < bias else 'nie'}mniejszy niż {bias}\")\n"
      ],
      "metadata": {
        "id": "LeNtvPNXa1lG",
        "colab": {
          "base_uri": "https://localhost:8080/"
        },
        "outputId": "48d72fe7-34ba-43d1-a32f-5ae1f6d487f6"
      },
      "execution_count": 8,
      "outputs": [
        {
          "output_type": "stream",
          "name": "stdout",
          "text": [
            "\n",
            "Pole między osią OX a funkcją f:\n",
            " - numerycznie: 6.749995999998168\n",
            " - symbolicznie: 6.75000000000000\n",
            "\n",
            "Błąd całkowania: 0.00000400000183198301\n",
            "Błąd jest mniejszy niż 1e-05\n"
          ]
        }
      ]
    },
    {
      "cell_type": "code",
      "source": [
        "calka(lambda x:x**2,0,1,1000)"
      ],
      "metadata": {
        "colab": {
          "base_uri": "https://localhost:8080/"
        },
        "id": "ggkUU_wSa1oZ",
        "outputId": "95dde9b4-9246-44bf-b482-b1d8607e5579"
      },
      "execution_count": null,
      "outputs": [
        {
          "output_type": "execute_result",
          "data": {
            "text/plain": [
              "0.33283299983333353"
            ]
          },
          "metadata": {},
          "execution_count": 7
        }
      ]
    },
    {
      "cell_type": "code",
      "source": [
        ""
      ],
      "metadata": {
        "id": "dkZqz7Gea1rz"
      },
      "execution_count": null,
      "outputs": []
    },
    {
      "cell_type": "code",
      "source": [
        ""
      ],
      "metadata": {
        "id": "TSTpE_aga1xO"
      },
      "execution_count": null,
      "outputs": []
    },
    {
      "cell_type": "markdown",
      "source": [
        "#### Zadanie 2\n",
        "a) Zaimplementuj w postaci funkcji algorytm obliczania pierwiastka kwadratowego z $x>0$ z wykorzystaniem algorytmu Herona. Funkcja powinna przyjmować jako argumenty liczby: $x$, punkt startowy $x_0$ oraz liczbę kroków (wyrazów ciągu do obliczenia).\n",
        "\n",
        "b) Następnie, dodaj argument show_step (domyślnie ustawiony jako False), który będzie pozwalał wyświetlać kolejne kroki przybliżenia aż do zadanego.\n",
        "\n",
        "c) Na bazie a) stwórz nową funkcję, która wykona odpowiednią liczbę kroków by przybliżenie miało podaną dokładność"
      ],
      "metadata": {
        "id": "lifT1qX3a19e"
      }
    },
    {
      "cell_type": "code",
      "source": [
        ""
      ],
      "metadata": {
        "id": "J9ezM3OYa6dM"
      },
      "execution_count": null,
      "outputs": []
    },
    {
      "cell_type": "code",
      "source": [
        ""
      ],
      "metadata": {
        "id": "cYrng8gda6fh"
      },
      "execution_count": null,
      "outputs": []
    },
    {
      "cell_type": "code",
      "source": [
        ""
      ],
      "metadata": {
        "id": "dQuBkFDQa6ho"
      },
      "execution_count": null,
      "outputs": []
    },
    {
      "cell_type": "code",
      "source": [
        ""
      ],
      "metadata": {
        "id": "mgHNDaiza6kV"
      },
      "execution_count": null,
      "outputs": []
    },
    {
      "cell_type": "markdown",
      "source": [
        "# NumPy\n",
        "\n",
        "np.ndarray (N-dimensional array)\n",
        "\n",
        "Najważniejsze atrybuty:\n",
        "* shape\n",
        "* ndim\n",
        "* size\n",
        "* dtype (int,float,bool,complex)\n",
        "* nbytes\n"
      ],
      "metadata": {
        "id": "eXGnYtina6wf"
      }
    },
    {
      "cell_type": "code",
      "source": [
        "tab=np.array([[1,2],[3,4],[4,1]])"
      ],
      "metadata": {
        "id": "0Dltuhwva_gN"
      },
      "execution_count": null,
      "outputs": []
    },
    {
      "cell_type": "code",
      "source": [
        "tab.nbytes"
      ],
      "metadata": {
        "colab": {
          "base_uri": "https://localhost:8080/"
        },
        "id": "FjxTxSyOa_iu",
        "outputId": "6d704bd3-cd3e-4407-a424-c8b021070ec2"
      },
      "execution_count": null,
      "outputs": [
        {
          "output_type": "execute_result",
          "data": {
            "text/plain": [
              "48"
            ]
          },
          "metadata": {},
          "execution_count": 11
        }
      ]
    },
    {
      "cell_type": "code",
      "source": [
        ""
      ],
      "metadata": {
        "id": "w0LsA57Fpc8P"
      },
      "execution_count": null,
      "outputs": []
    },
    {
      "cell_type": "code",
      "source": [
        ""
      ],
      "metadata": {
        "id": "wd_TqjE2a_lT"
      },
      "execution_count": null,
      "outputs": []
    },
    {
      "cell_type": "markdown",
      "source": [
        "#### Zadanie 3\n",
        "\n",
        "Stwórz dowolną tablicę liczb całkowitych ndarray z zagnieżdżonej listy. Sprawdź jej różne atrybuty. Spróbuj zamienić wszystkie liczby całkowite na zmiennoprzecinkowe."
      ],
      "metadata": {
        "id": "Sqbettf7a_vl"
      }
    },
    {
      "cell_type": "code",
      "source": [
        "tab2=np.array(tab,dtype=float)"
      ],
      "metadata": {
        "id": "njXHIMDNbC-5"
      },
      "execution_count": null,
      "outputs": []
    },
    {
      "cell_type": "code",
      "source": [
        "tab2"
      ],
      "metadata": {
        "colab": {
          "base_uri": "https://localhost:8080/"
        },
        "id": "lP_lPC0HbDHa",
        "outputId": "ea037007-a15c-4dd2-8238-eca0f7d07685"
      },
      "execution_count": null,
      "outputs": [
        {
          "output_type": "execute_result",
          "data": {
            "text/plain": [
              "array([[1., 2.],\n",
              "       [3., 4.],\n",
              "       [4., 1.]])"
            ]
          },
          "metadata": {},
          "execution_count": 13
        }
      ]
    },
    {
      "cell_type": "code",
      "source": [
        "tab3=np.array([-1,0,1])"
      ],
      "metadata": {
        "id": "lBWc4REfbDM9"
      },
      "execution_count": null,
      "outputs": []
    },
    {
      "cell_type": "code",
      "source": [
        "np.sqrt(tab3)"
      ],
      "metadata": {
        "colab": {
          "base_uri": "https://localhost:8080/"
        },
        "id": "mVfCh49DbDPu",
        "outputId": "02d9d736-8df8-4c66-ab6d-5f8296074a36"
      },
      "execution_count": null,
      "outputs": [
        {
          "output_type": "stream",
          "name": "stderr",
          "text": [
            "/usr/local/lib/python3.7/dist-packages/ipykernel_launcher.py:1: RuntimeWarning: invalid value encountered in sqrt\n",
            "  \"\"\"Entry point for launching an IPython kernel.\n"
          ]
        },
        {
          "output_type": "execute_result",
          "data": {
            "text/plain": [
              "array([nan,  0.,  1.])"
            ]
          },
          "metadata": {},
          "execution_count": 15
        }
      ]
    },
    {
      "cell_type": "code",
      "source": [
        "tab4=tab3.astype(complex)\n",
        "tab4\n",
        "np.sqrt(tab4).imag"
      ],
      "metadata": {
        "colab": {
          "base_uri": "https://localhost:8080/"
        },
        "id": "VkHzYMQGq3_i",
        "outputId": "c4c41319-1da5-4f8e-87bd-41a083c8813e"
      },
      "execution_count": null,
      "outputs": [
        {
          "output_type": "execute_result",
          "data": {
            "text/plain": [
              "array([1., 0., 0.])"
            ]
          },
          "metadata": {},
          "execution_count": 19
        }
      ]
    },
    {
      "cell_type": "markdown",
      "source": [
        "### Konstruktory:\n",
        "* np.array - tworzy z różnych tablicopodobnych typów\n",
        "* np.zeros - same zera\n",
        "* np.ones - same jedynki\n",
        "* np.eye - macierz identycznościowa\n",
        "* np.diag - macierz z elementami na przekątnej\n",
        "\n",
        "* **!** np.linspace(start,koniec (domknięty),liczba elementów)\n",
        "* **!** np.arange(start,koniec (otwarty),krok)\n",
        "* np.meshgrid - tworzy siatkę punktów z pojedynczych wektorów) - zwraca tablice poszczególnych współrzędnych\n",
        "\n",
        "from scipy.linalg import block_diag"
      ],
      "metadata": {
        "id": "KoXWs5OxbDYG"
      }
    },
    {
      "cell_type": "code",
      "source": [
        "np.zeros((3,3))"
      ],
      "metadata": {
        "colab": {
          "base_uri": "https://localhost:8080/"
        },
        "id": "wdlAhUswbNqu",
        "outputId": "cbcd2c7e-8ee0-4140-a352-f0f1b8f039d8"
      },
      "execution_count": null,
      "outputs": [
        {
          "output_type": "execute_result",
          "data": {
            "text/plain": [
              "array([[0., 0., 0.],\n",
              "       [0., 0., 0.],\n",
              "       [0., 0., 0.]])"
            ]
          },
          "metadata": {},
          "execution_count": 22
        }
      ]
    },
    {
      "cell_type": "code",
      "source": [
        "np.meshgrid([1,2,3],['a','b','c'])"
      ],
      "metadata": {
        "colab": {
          "base_uri": "https://localhost:8080/"
        },
        "id": "mdplm_EAbNth",
        "outputId": "5f3df1f3-0e08-47c0-bd0b-88e7bca094b3"
      },
      "execution_count": null,
      "outputs": [
        {
          "output_type": "execute_result",
          "data": {
            "text/plain": [
              "[array([[1, 2, 3],\n",
              "        [1, 2, 3],\n",
              "        [1, 2, 3]]), array([['a', 'a', 'a'],\n",
              "        ['b', 'b', 'b'],\n",
              "        ['c', 'c', 'c']], dtype='<U1')]"
            ]
          },
          "metadata": {},
          "execution_count": 23
        }
      ]
    },
    {
      "cell_type": "code",
      "source": [
        ""
      ],
      "metadata": {
        "id": "0_omjkT5bNvQ"
      },
      "execution_count": null,
      "outputs": []
    },
    {
      "cell_type": "code",
      "source": [
        ""
      ],
      "metadata": {
        "id": "VPpiItAXbNxq"
      },
      "execution_count": null,
      "outputs": []
    },
    {
      "cell_type": "markdown",
      "source": [
        "#### Zadanie 4\n",
        "Skonstruuj macierz:\n",
        "$$\n",
        "Mat1=\\begin{bmatrix}\n",
        "1 &1 &0&0&0&0&0\\\\\n",
        "1&1&0&0&0&0&0\\\\\n",
        "0&0&0&0&0&0&0 \\\\\n",
        "0&0&0&0&0&0&0 \\\\\n",
        "0&0&0&0&3&0&0 \\\\\n",
        "0&0&0&0&0&2&4 \\\\\n",
        "0&0&0&0&0&4&2 \\\\\n",
        "\\end{bmatrix}\n",
        "$$"
      ],
      "metadata": {
        "id": "z3gAwg2MbN-i"
      }
    },
    {
      "cell_type": "code",
      "source": [
        "from scipy.linalg import block_diag\n",
        "Mat1=block_diag(np.ones((2,2)),np.zeros((2,2)),3,(4*np.ones((2,2))-2*np.eye(2)))\n",
        "Mat1"
      ],
      "metadata": {
        "colab": {
          "base_uri": "https://localhost:8080/"
        },
        "id": "t4byIDxebQVb",
        "outputId": "c6d6a5c5-a12d-42ae-fcc2-6a285d3b35e5"
      },
      "execution_count": null,
      "outputs": [
        {
          "output_type": "execute_result",
          "data": {
            "text/plain": [
              "array([[1., 1., 0., 0., 0., 0., 0.],\n",
              "       [1., 1., 0., 0., 0., 0., 0.],\n",
              "       [0., 0., 0., 0., 0., 0., 0.],\n",
              "       [0., 0., 0., 0., 0., 0., 0.],\n",
              "       [0., 0., 0., 0., 3., 0., 0.],\n",
              "       [0., 0., 0., 0., 0., 2., 4.],\n",
              "       [0., 0., 0., 0., 0., 4., 2.]])"
            ]
          },
          "metadata": {},
          "execution_count": 27
        }
      ]
    },
    {
      "cell_type": "code",
      "source": [
        "Mat1[0,0]=3"
      ],
      "metadata": {
        "id": "3N0RVAPbbQYw"
      },
      "execution_count": null,
      "outputs": []
    },
    {
      "cell_type": "code",
      "source": [
        "Mat1"
      ],
      "metadata": {
        "colab": {
          "base_uri": "https://localhost:8080/"
        },
        "id": "L642lhZRbQcD",
        "outputId": "8fe70ad6-47e5-45df-88cc-495344db5064"
      },
      "execution_count": null,
      "outputs": [
        {
          "output_type": "execute_result",
          "data": {
            "text/plain": [
              "array([[3., 1., 0., 0., 0., 0., 0.],\n",
              "       [1., 1., 0., 0., 0., 0., 0.],\n",
              "       [0., 0., 0., 0., 0., 0., 0.],\n",
              "       [0., 0., 0., 0., 0., 0., 0.],\n",
              "       [0., 0., 0., 0., 3., 0., 0.],\n",
              "       [0., 0., 0., 0., 0., 2., 4.],\n",
              "       [0., 0., 0., 0., 0., 4., 2.]])"
            ]
          },
          "metadata": {},
          "execution_count": 31
        }
      ]
    },
    {
      "cell_type": "code",
      "source": [
        "Mat1[:,::-1]"
      ],
      "metadata": {
        "colab": {
          "base_uri": "https://localhost:8080/"
        },
        "id": "hRahjYIDbQec",
        "outputId": "2d8484d7-7448-4237-ccbf-99f31d295d9d"
      },
      "execution_count": null,
      "outputs": [
        {
          "output_type": "execute_result",
          "data": {
            "text/plain": [
              "array([[0., 0., 0., 0., 0., 1., 3.],\n",
              "       [0., 0., 0., 0., 0., 1., 1.],\n",
              "       [0., 0., 0., 0., 0., 0., 0.],\n",
              "       [0., 0., 0., 0., 0., 0., 0.],\n",
              "       [0., 0., 3., 0., 0., 0., 0.],\n",
              "       [4., 2., 0., 0., 0., 0., 0.],\n",
              "       [2., 4., 0., 0., 0., 0., 0.]])"
            ]
          },
          "metadata": {},
          "execution_count": 35
        }
      ]
    },
    {
      "cell_type": "markdown",
      "source": [
        "#### Zadanie 5\n",
        "W macierzy Mat1 zamień miejscami lewy górny narożnik 4X4 z prawym dolnym 3x3 (nazwij wynik Mat2)\n",
        "\n",
        "#### Zadanie 6\n",
        "Stwórz macierz Mat3, która będzie zawierała tylko elementy z Mat2 o obu parzystych współrzędnych."
      ],
      "metadata": {
        "id": "5nn8LWwabRAh"
      }
    },
    {
      "cell_type": "code",
      "source": [
        "Mat1[:4,:4]"
      ],
      "metadata": {
        "colab": {
          "base_uri": "https://localhost:8080/"
        },
        "id": "3KpJTYIObTkO",
        "outputId": "fee61b9f-ed68-4231-b4e9-10162a899e40"
      },
      "execution_count": null,
      "outputs": [
        {
          "output_type": "execute_result",
          "data": {
            "text/plain": [
              "array([[3., 1., 0., 0.],\n",
              "       [1., 1., 0., 0.],\n",
              "       [0., 0., 0., 0.],\n",
              "       [0., 0., 0., 0.]])"
            ]
          },
          "metadata": {},
          "execution_count": 38
        }
      ]
    },
    {
      "cell_type": "code",
      "source": [
        "Mat1[-3:,-3:]"
      ],
      "metadata": {
        "colab": {
          "base_uri": "https://localhost:8080/"
        },
        "id": "rXmaet2GbTmu",
        "outputId": "8be63beb-9202-4b64-a2d1-5f86712c2240"
      },
      "execution_count": null,
      "outputs": [
        {
          "output_type": "execute_result",
          "data": {
            "text/plain": [
              "array([[3., 0., 0.],\n",
              "       [0., 2., 4.],\n",
              "       [0., 4., 2.]])"
            ]
          },
          "metadata": {},
          "execution_count": 37
        }
      ]
    },
    {
      "cell_type": "code",
      "source": [
        "Mat2=block_diag(Mat1[-3:,-3:],Mat1[:4,:4])"
      ],
      "metadata": {
        "id": "gW0I7TvmbTpG"
      },
      "execution_count": null,
      "outputs": []
    },
    {
      "cell_type": "code",
      "source": [
        "Mat3=Mat2[1::2,1::2]"
      ],
      "metadata": {
        "id": "CnVeHgjebTrU"
      },
      "execution_count": null,
      "outputs": []
    },
    {
      "cell_type": "markdown",
      "source": [
        "### Zadanie 7\n",
        "Utwórz tablicę\n",
        "\n",
        "$$\n",
        "\\begin{bmatrix}\n",
        "1&2&3&4\\\\\n",
        "5&6&7&8 \\\\\n",
        "9&10&11&12\\\\\n",
        "13&14&15&16\n",
        "\\end{bmatrix}\n",
        "$$"
      ],
      "metadata": {
        "id": "Vy58FY1cbTx6"
      }
    },
    {
      "cell_type": "code",
      "source": [
        "import numpy as np\n",
        "\n",
        "A = np.arange(1,17).reshape(4,4)\n",
        "A"
      ],
      "metadata": {
        "id": "AVlB7UNobXwX",
        "outputId": "b5603583-744e-490a-8019-fde870205ddc",
        "colab": {
          "base_uri": "https://localhost:8080/"
        }
      },
      "execution_count": 5,
      "outputs": [
        {
          "output_type": "execute_result",
          "data": {
            "text/plain": [
              "array([[ 1,  2,  3,  4],\n",
              "       [ 5,  6,  7,  8],\n",
              "       [ 9, 10, 11, 12],\n",
              "       [13, 14, 15, 16]])"
            ]
          },
          "metadata": {},
          "execution_count": 5
        }
      ]
    },
    {
      "cell_type": "markdown",
      "source": [
        "Inne przydatne funkcje:\n",
        "\n",
        "* łączenie macierzy ```np.concatenate((tab1,tab2),argumenty)```\n",
        "* rozdzielanie macierzy ```np.array_split(tab1, \\<liczba czesci\\>)```\n",
        "* wybieranie indeksów spełniających logiczny warunek: ```np.where(tab1>0)```\n",
        "* sortowanie ```np.sort(tab1)```"
      ],
      "metadata": {
        "id": "C-gMBsIvbYEl"
      }
    },
    {
      "cell_type": "code",
      "source": [
        ""
      ],
      "metadata": {
        "id": "7PtmO0jRba5v"
      },
      "execution_count": null,
      "outputs": []
    },
    {
      "cell_type": "code",
      "source": [
        ""
      ],
      "metadata": {
        "id": "V7SnQk9Uba8z"
      },
      "execution_count": null,
      "outputs": []
    },
    {
      "cell_type": "code",
      "source": [
        ""
      ],
      "metadata": {
        "id": "6CQzPsu1ba_P"
      },
      "execution_count": null,
      "outputs": []
    },
    {
      "cell_type": "code",
      "source": [
        ""
      ],
      "metadata": {
        "id": "Blf2a6yxbbB_"
      },
      "execution_count": null,
      "outputs": []
    },
    {
      "cell_type": "markdown",
      "source": [
        ""
      ],
      "metadata": {
        "id": "SVZoI8zWbbJt"
      }
    }
  ]
}